{
 "cells": [
  {
   "cell_type": "code",
   "execution_count": 1,
   "metadata": {},
   "outputs": [],
   "source": [
    "%load_ext autoreload\n",
    "%autoreload 2"
   ]
  },
  {
   "cell_type": "code",
   "execution_count": 2,
   "metadata": {},
   "outputs": [
    {
     "name": "stderr",
     "output_type": "stream",
     "text": [
      "/home/smjo/anaconda3/envs/xai_timeseries/lib/python3.10/site-packages/tqdm/auto.py:21: TqdmWarning: IProgress not found. Please update jupyter and ipywidgets. See https://ipywidgets.readthedocs.io/en/stable/user_install.html\n",
      "  from .autonotebook import tqdm as notebook_tqdm\n"
     ]
    },
    {
     "data": {
      "text/plain": [
       "<torch._C.Generator at 0x7f21a0386770>"
      ]
     },
     "execution_count": 2,
     "metadata": {},
     "output_type": "execute_result"
    }
   ],
   "source": [
    "import torch \n",
    "import numpy as np \n",
    "import matplotlib.pyplot as plt \n",
    "import os \n",
    "import pandas as pd\n",
    "import argparse                 \n",
    "import sklearn \n",
    "import numpy as np \n",
    "import logging \n",
    "import sklearn.metrics as metrics \n",
    "import scikitplot as skplt\n",
    "import matplotlib.pyplot as plt                                  \n",
    "from argparse import ArgumentParser\n",
    "device = torch.device(\"cuda\" if torch.cuda.is_available() else \"cpu\")\n",
    "from torch.utils.data import DataLoader, TensorDataset, Subset, Dataset, random_split\n",
    "import torch.nn.functional as F\n",
    "from collections import Counter, defaultdict\n",
    "import itertools\n",
    "import os \n",
    "import copy\n",
    "import warnings\n",
    "from dataload import makedata\n",
    "from classifier import ClassifierTrainer\n",
    "from models import VQ_Classifier\n",
    "import itertools\n",
    "from data import load_data\n",
    "warnings.filterwarnings(\"ignore\", category=UserWarning)\n",
    "os.environ[\"CUDA_VISIBLE_DEVICES\"] = \"5\"\n",
    "torch.set_num_threads(32) \n",
    "device = torch.device(\"cuda\" if torch.cuda.is_available() else \"cpu\")\n",
    "torch.manual_seed(911)"
   ]
  },
  {
   "cell_type": "code",
   "execution_count": 17,
   "metadata": {},
   "outputs": [
    {
     "name": "stdout",
     "output_type": "stream",
     "text": [
      "task is classification\n",
      "dataset is mitbih\n",
      "X shape:torch.Size([8039, 192]), y shape:torch.Size([8039, 2])\n"
     ]
    }
   ],
   "source": [
    "os.environ[\"CUDA_VISIBLE_DEVICES\"] ='3'\n",
    "len_position=13\n",
    "dataset = 'mitbih'\n",
    "classifier ='cnn'\n",
    "classification_model =  '/home/smjo/xai_timeseries/vqvae/saved_models/classification/mitbih/1/cnn.pt'\n",
    "vqvae_model = '/home/smjo/xai_timeseries/vqvae/saved_models/hard_mitbih/1/model_280.pt'\n",
    "batch_size=256\n",
    "ds = load_data(dataset, task='classification')\n"
   ]
  },
  {
   "cell_type": "code",
   "execution_count": 10,
   "metadata": {},
   "outputs": [
    {
     "data": {
      "text/plain": [
       "torch.Size([192])"
      ]
     },
     "execution_count": 10,
     "metadata": {},
     "output_type": "execute_result"
    }
   ],
   "source": [
    "ds[0][0].shape"
   ]
  },
  {
   "cell_type": "code",
   "execution_count": 18,
   "metadata": {},
   "outputs": [],
   "source": [
    "train_size = int(0.8 * len(ds))\n",
    "val_size = int(0.1 * len(ds))\n",
    "test_size = len(ds) - train_size - val_size\n",
    "train_dataset, val_dataset, test_dataset = random_split(ds, [train_size, val_size, test_size])\n",
    "train_loader = DataLoader(train_dataset, batch_size=batch_size, shuffle=True, pin_memory=True)\n",
    "val_loader = DataLoader(val_dataset, batch_size=batch_size, shuffle=False, pin_memory=True)\n",
    "test_loader = DataLoader(test_dataset, batch_size = batch_size, shuffle=False, pin_memory=True)"
   ]
  },
  {
   "cell_type": "code",
   "execution_count": 19,
   "metadata": {},
   "outputs": [
    {
     "data": {
      "text/plain": [
       "VQ_Classifier(\n",
       "  (vae): Residual_VQVAE(\n",
       "    (vq): ResidualVQ(\n",
       "      (layers): ModuleList(\n",
       "        (0): VectorQuantize(\n",
       "          (project_in): Identity()\n",
       "          (project_out): Identity()\n",
       "          (_codebook): EuclideanCodebook()\n",
       "        )\n",
       "      )\n",
       "    )\n",
       "    (encoder): Sequential(\n",
       "      (0): Sequential(\n",
       "        (0): Conv1d(1, 64, kernel_size=(2,), stride=(2,))\n",
       "        (1): ReLU()\n",
       "      )\n",
       "      (1): Sequential(\n",
       "        (0): Conv1d(64, 64, kernel_size=(2,), stride=(2,))\n",
       "        (1): ReLU()\n",
       "      )\n",
       "      (2): Sequential(\n",
       "        (0): Conv1d(64, 64, kernel_size=(2,), stride=(2,))\n",
       "        (1): ReLU()\n",
       "      )\n",
       "      (3): Sequential(\n",
       "        (0): Conv1d(64, 64, kernel_size=(2,), stride=(2,))\n",
       "        (1): ReLU()\n",
       "      )\n",
       "      (4): Conv1d(64, 64, kernel_size=(1,), stride=(1,))\n",
       "    )\n",
       "    (decoder): Sequential(\n",
       "      (0): Sequential(\n",
       "        (0): ConvTranspose1d(64, 64, kernel_size=(2,), stride=(2,))\n",
       "        (1): ReLU()\n",
       "      )\n",
       "      (1): Sequential(\n",
       "        (0): ConvTranspose1d(64, 64, kernel_size=(2,), stride=(2,))\n",
       "        (1): ReLU()\n",
       "      )\n",
       "      (2): Sequential(\n",
       "        (0): ConvTranspose1d(64, 64, kernel_size=(2,), stride=(2,))\n",
       "        (1): ReLU()\n",
       "      )\n",
       "      (3): Sequential(\n",
       "        (0): ConvTranspose1d(64, 64, kernel_size=(2,), stride=(2,))\n",
       "        (1): ReLU()\n",
       "      )\n",
       "      (4): Conv1d(64, 1, kernel_size=(1,), stride=(1,))\n",
       "    )\n",
       "  )\n",
       "  (to_hidden): Sequential(\n",
       "    (0): Conv1d(64, 32, kernel_size=(4,), stride=(2,))\n",
       "    (1): ReLU()\n",
       "    (2): BatchNorm1d(32, eps=1e-05, momentum=0.1, affine=True, track_running_stats=True)\n",
       "    (3): Conv1d(32, 16, kernel_size=(2,), stride=(1,))\n",
       "    (4): ReLU()\n",
       "    (5): BatchNorm1d(16, eps=1e-05, momentum=0.1, affine=True, track_running_stats=True)\n",
       "    (6): Conv1d(16, 16, kernel_size=(2,), stride=(1,))\n",
       "    (7): ReLU()\n",
       "    (8): BatchNorm1d(16, eps=1e-05, momentum=0.1, affine=True, track_running_stats=True)\n",
       "  )\n",
       "  (embedding): Embedding(128, 64)\n",
       "  (mlp_head): Sequential(\n",
       "    (0): Linear(in_features=16, out_features=2, bias=True)\n",
       "    (1): ReLU()\n",
       "  )\n",
       "  (softmax): Softmax(dim=1)\n",
       ")"
      ]
     },
     "execution_count": 19,
     "metadata": {},
     "output_type": "execute_result"
    }
   ],
   "source": [
    "#Find masking token\n",
    "end_tokens={}\n",
    "\n",
    "conv_net = VQ_Classifier(\n",
    "    num_classes = 2,\n",
    "    vqvae_model = vqvae_model,\n",
    "    positions =0,\n",
    "    mask = 0,\n",
    "    auc_classification = False,\n",
    "    model_type = classifier\n",
    ").to(device)\n",
    "\n",
    "a = torch.load(classification_model)\n",
    "conv_net.load_state_dict(a['model_state_dict'])\n",
    "\n",
    "for param in conv_net.parameters():\n",
    "    param.requires_grad = False\n",
    "\n",
    "conv_net.eval()"
   ]
  },
  {
   "cell_type": "code",
   "execution_count": 20,
   "metadata": {},
   "outputs": [
    {
     "data": {
      "text/plain": [
       "[tensor(117, device='cuda:0')]"
      ]
     },
     "execution_count": 20,
     "metadata": {},
     "output_type": "execute_result"
    }
   ],
   "source": [
    "\n",
    "masked_regions = conv_net.mask_region(ds.data[:64, :].to(device))\n",
    "masked_regions"
   ]
  },
  {
   "cell_type": "code",
   "execution_count": 21,
   "metadata": {},
   "outputs": [
    {
     "name": "stdout",
     "output_type": "stream",
     "text": [
      "arr: [0, 1, 2, 3, 4, 5, 6, 7, 8, 9, 10, 11, 12]\n"
     ]
    },
    {
     "name": "stderr",
     "output_type": "stream",
     "text": [
      "100%|██████████| 256/256 [00:00<00:00, 5381.41it/s]\n",
      "100%|██████████| 256/256 [00:00<00:00, 918.81it/s]\n",
      "100%|██████████| 256/256 [00:00<00:00, 920.59it/s]\n",
      "100%|██████████| 256/256 [00:00<00:00, 941.69it/s]\n",
      "100%|██████████| 256/256 [00:00<00:00, 922.93it/s]\n",
      "100%|██████████| 256/256 [00:00<00:00, 785.59it/s]\n",
      "100%|██████████| 256/256 [00:00<00:00, 885.96it/s]\n",
      "100%|██████████| 256/256 [00:00<00:00, 946.13it/s]\n",
      "100%|██████████| 256/256 [00:00<00:00, 947.13it/s]\n",
      "100%|██████████| 256/256 [00:00<00:00, 931.52it/s]\n",
      "100%|██████████| 256/256 [00:00<00:00, 993.11it/s]\n",
      "100%|██████████| 256/256 [00:00<00:00, 937.19it/s]\n",
      "100%|██████████| 256/256 [00:00<00:00, 943.38it/s]\n"
     ]
    },
    {
     "name": "stdout",
     "output_type": "stream",
     "text": [
      "arr: [1, 2, 3, 4, 5, 6, 7, 8, 9, 10, 11, 12]\n"
     ]
    },
    {
     "name": "stderr",
     "output_type": "stream",
     "text": [
      "100%|██████████| 256/256 [00:00<00:00, 944.08it/s]\n",
      "100%|██████████| 256/256 [00:00<00:00, 512.81it/s]\n",
      "100%|██████████| 256/256 [00:00<00:00, 516.80it/s]\n",
      "100%|██████████| 256/256 [00:00<00:00, 514.99it/s]\n",
      "100%|██████████| 256/256 [00:00<00:00, 478.83it/s]\n",
      "100%|██████████| 256/256 [00:00<00:00, 516.77it/s]\n",
      "100%|██████████| 256/256 [00:00<00:00, 518.97it/s]\n",
      "100%|██████████| 256/256 [00:00<00:00, 522.74it/s]\n",
      "100%|██████████| 256/256 [00:00<00:00, 515.28it/s]\n",
      "100%|██████████| 256/256 [00:00<00:00, 513.35it/s]\n",
      "100%|██████████| 256/256 [00:00<00:00, 515.66it/s]\n",
      "100%|██████████| 256/256 [00:00<00:00, 512.71it/s]\n"
     ]
    },
    {
     "name": "stdout",
     "output_type": "stream",
     "text": [
      "arr: [2, 3, 4, 5, 6, 7, 8, 9, 10, 11, 12]\n"
     ]
    },
    {
     "name": "stderr",
     "output_type": "stream",
     "text": [
      "100%|██████████| 256/256 [00:00<00:00, 483.29it/s]\n",
      "100%|██████████| 256/256 [00:00<00:00, 357.44it/s]\n",
      "100%|██████████| 256/256 [00:00<00:00, 357.88it/s]\n",
      "100%|██████████| 256/256 [00:00<00:00, 354.80it/s]\n",
      "100%|██████████| 256/256 [00:00<00:00, 353.32it/s]\n",
      "100%|██████████| 256/256 [00:00<00:00, 327.60it/s]\n",
      "100%|██████████| 256/256 [00:00<00:00, 339.77it/s]\n",
      "100%|██████████| 256/256 [00:00<00:00, 349.05it/s]\n",
      "100%|██████████| 256/256 [00:00<00:00, 348.52it/s]\n",
      "100%|██████████| 256/256 [00:00<00:00, 353.74it/s]\n",
      "100%|██████████| 256/256 [00:00<00:00, 352.52it/s]\n"
     ]
    },
    {
     "name": "stdout",
     "output_type": "stream",
     "text": [
      "arr: [3, 4, 5, 6, 7, 8, 9, 10, 11, 12]\n"
     ]
    },
    {
     "name": "stderr",
     "output_type": "stream",
     "text": [
      "100%|██████████| 256/256 [00:00<00:00, 340.13it/s]\n",
      "100%|██████████| 256/256 [00:00<00:00, 270.69it/s]\n",
      "100%|██████████| 256/256 [00:00<00:00, 272.39it/s]\n",
      "100%|██████████| 256/256 [00:00<00:00, 271.80it/s]\n",
      "100%|██████████| 256/256 [00:00<00:00, 268.56it/s]\n",
      "100%|██████████| 256/256 [00:00<00:00, 269.13it/s]\n",
      "100%|██████████| 256/256 [00:00<00:00, 271.14it/s]\n",
      "100%|██████████| 256/256 [00:00<00:00, 271.61it/s]\n",
      "100%|██████████| 256/256 [00:00<00:00, 270.59it/s]\n",
      "100%|██████████| 256/256 [00:00<00:00, 267.33it/s]\n"
     ]
    },
    {
     "name": "stdout",
     "output_type": "stream",
     "text": [
      "arr: [4, 5, 6, 7, 8, 9, 10, 11, 12]\n"
     ]
    },
    {
     "name": "stderr",
     "output_type": "stream",
     "text": [
      "100%|██████████| 256/256 [00:00<00:00, 274.50it/s]\n",
      "100%|██████████| 256/256 [00:01<00:00, 219.40it/s]\n",
      "100%|██████████| 256/256 [00:01<00:00, 217.72it/s]\n",
      "100%|██████████| 256/256 [00:01<00:00, 219.02it/s]\n",
      "100%|██████████| 256/256 [00:01<00:00, 219.53it/s]\n",
      "100%|██████████| 256/256 [00:01<00:00, 219.76it/s]\n",
      "100%|██████████| 256/256 [00:01<00:00, 217.24it/s]\n",
      "100%|██████████| 256/256 [00:01<00:00, 219.96it/s]\n",
      "100%|██████████| 256/256 [00:01<00:00, 219.98it/s]\n"
     ]
    },
    {
     "name": "stdout",
     "output_type": "stream",
     "text": [
      "arr: [5, 6, 7, 8, 9, 10, 11, 12]\n"
     ]
    },
    {
     "name": "stderr",
     "output_type": "stream",
     "text": [
      "100%|██████████| 256/256 [00:01<00:00, 216.43it/s]\n",
      "100%|██████████| 256/256 [00:01<00:00, 184.88it/s]\n",
      "100%|██████████| 256/256 [00:01<00:00, 182.64it/s]\n",
      "100%|██████████| 256/256 [00:01<00:00, 182.06it/s]\n",
      "100%|██████████| 256/256 [00:01<00:00, 184.10it/s]\n",
      "100%|██████████| 256/256 [00:01<00:00, 184.00it/s]\n",
      "100%|██████████| 256/256 [00:01<00:00, 183.66it/s]\n",
      "100%|██████████| 256/256 [00:01<00:00, 184.45it/s]\n"
     ]
    },
    {
     "name": "stdout",
     "output_type": "stream",
     "text": [
      "arr: [6, 7, 8, 9, 10, 11, 12]\n"
     ]
    },
    {
     "name": "stderr",
     "output_type": "stream",
     "text": [
      "100%|██████████| 256/256 [00:01<00:00, 184.13it/s]\n",
      "100%|██████████| 256/256 [00:01<00:00, 157.94it/s]\n",
      "100%|██████████| 256/256 [00:01<00:00, 157.90it/s]\n",
      "100%|██████████| 256/256 [00:01<00:00, 157.05it/s]\n",
      "100%|██████████| 256/256 [00:01<00:00, 158.77it/s]\n",
      "100%|██████████| 256/256 [00:01<00:00, 158.87it/s]\n",
      "100%|██████████| 256/256 [00:01<00:00, 157.88it/s]\n"
     ]
    },
    {
     "name": "stdout",
     "output_type": "stream",
     "text": [
      "arr: [7, 8, 9, 10, 11, 12]\n"
     ]
    },
    {
     "name": "stderr",
     "output_type": "stream",
     "text": [
      "100%|██████████| 256/256 [00:01<00:00, 159.03it/s]\n",
      "100%|██████████| 256/256 [00:01<00:00, 138.20it/s]\n",
      "100%|██████████| 256/256 [00:01<00:00, 139.68it/s]\n",
      "100%|██████████| 256/256 [00:01<00:00, 138.49it/s]\n",
      "100%|██████████| 256/256 [00:01<00:00, 139.35it/s]\n",
      "100%|██████████| 256/256 [00:01<00:00, 138.84it/s]\n"
     ]
    },
    {
     "name": "stdout",
     "output_type": "stream",
     "text": [
      "arr: [8, 9, 10, 11, 12]\n"
     ]
    },
    {
     "name": "stderr",
     "output_type": "stream",
     "text": [
      "100%|██████████| 256/256 [00:01<00:00, 139.36it/s]\n",
      "100%|██████████| 256/256 [00:02<00:00, 123.99it/s]\n",
      "100%|██████████| 256/256 [00:02<00:00, 123.11it/s]\n",
      "100%|██████████| 256/256 [00:02<00:00, 121.88it/s]\n",
      "100%|██████████| 256/256 [00:02<00:00, 123.61it/s]\n"
     ]
    },
    {
     "name": "stdout",
     "output_type": "stream",
     "text": [
      "arr: [9, 10, 11, 12]\n"
     ]
    },
    {
     "name": "stderr",
     "output_type": "stream",
     "text": [
      "100%|██████████| 256/256 [00:02<00:00, 123.43it/s]\n",
      "100%|██████████| 256/256 [00:02<00:00, 112.02it/s]\n",
      "100%|██████████| 256/256 [00:02<00:00, 111.66it/s]\n",
      "100%|██████████| 256/256 [00:02<00:00, 111.37it/s]\n"
     ]
    },
    {
     "name": "stdout",
     "output_type": "stream",
     "text": [
      "arr: [10, 11, 12]\n"
     ]
    },
    {
     "name": "stderr",
     "output_type": "stream",
     "text": [
      "100%|██████████| 256/256 [00:02<00:00, 110.52it/s]\n",
      "100%|██████████| 256/256 [00:02<00:00, 101.48it/s]\n",
      "100%|██████████| 256/256 [00:02<00:00, 101.47it/s]\n"
     ]
    },
    {
     "name": "stdout",
     "output_type": "stream",
     "text": [
      "arr: [11, 12]\n"
     ]
    },
    {
     "name": "stderr",
     "output_type": "stream",
     "text": [
      "100%|██████████| 256/256 [00:02<00:00, 101.00it/s]\n",
      "100%|██████████| 256/256 [00:02<00:00, 93.59it/s]\n"
     ]
    },
    {
     "name": "stdout",
     "output_type": "stream",
     "text": [
      "arr: [12]\n"
     ]
    },
    {
     "name": "stderr",
     "output_type": "stream",
     "text": [
      "100%|██████████| 256/256 [00:02<00:00, 93.45it/s]\n"
     ]
    }
   ],
   "source": [
    "#Make position answer\n",
    "answer = {}         \n",
    "arr = [i for i in range(len_position)]\n",
    "roc_auc_scores=[]\n",
    "\n",
    "\n",
    "for cnt in range(len_position):\n",
    "    max_auc=-1\n",
    "    print(\"arr:\", arr)\n",
    "    for i in arr:\n",
    "        #ECG Dataset\n",
    "        positions = list(answer.values())+[i]\n",
    "        net = VQ_Classifier(\n",
    "            num_classes = 2,\n",
    "            vqvae_model = vqvae_model,\n",
    "            positions = positions,\n",
    "            mask = masked_regions,\n",
    "            auc_classification = True,\n",
    "            model_type = classifier\n",
    "        ).to(device)\n",
    "        \n",
    "        \n",
    "        net.load_state_dict(torch.load(classification_model)[\"model_state_dict\"])\n",
    "        net = net.to(device)\n",
    "        for param in net.parameters():\n",
    "            param.requires_grad = False        \n",
    "        net.eval()   \n",
    "\n",
    "        with torch.no_grad():    \n",
    "            score=0\n",
    "            for idx, (data, labels) in enumerate(test_loader):\n",
    "                data = data.unsqueeze(1).float()\n",
    "                labels = labels.type(torch.LongTensor)\n",
    "                labels = torch.argmax(labels, dim=1)\n",
    "                data, labels = data.to(device), labels.to(device)\n",
    "                output, codebook_tokens, recon, input= net(data)\n",
    "                           \n",
    "                score += sklearn.metrics.roc_auc_score(labels.cpu(), output[:,1].cpu())\n",
    "                break\n",
    "        score = score / (idx+1)\n",
    "        if score > max_auc:\n",
    "            answer[f\"top_{cnt}\"]=i\n",
    "            max_auc = copy.deepcopy(score)\n",
    "    roc_auc_scores.append(max_auc)        \n",
    "    arr.remove(answer[f\"top_{cnt}\"])\n",
    "    "
   ]
  },
  {
   "cell_type": "code",
   "execution_count": 22,
   "metadata": {},
   "outputs": [
    {
     "data": {
      "text/plain": [
       "dict_values([0, 1, 2, 3, 4, 5, 6, 7, 8, 9, 10, 11, 12])"
      ]
     },
     "execution_count": 22,
     "metadata": {},
     "output_type": "execute_result"
    }
   ],
   "source": [
    "answer.values()"
   ]
  },
  {
   "cell_type": "code",
   "execution_count": null,
   "metadata": {},
   "outputs": [],
   "source": [
    "import pickle\n",
    "with open(\"answer.txt\", \"wb\") as fp:\n",
    "    pickle.dump(answer.values(), fp)"
   ]
  },
  {
   "cell_type": "code",
   "execution_count": null,
   "metadata": {},
   "outputs": [],
   "source": [
    "print(answer)"
   ]
  },
  {
   "cell_type": "code",
   "execution_count": null,
   "metadata": {},
   "outputs": [],
   "source": [
    "python position_answer.py --dataset mitbih --model_type cnn --vqvae_model"
   ]
  }
 ],
 "metadata": {
  "kernelspec": {
   "display_name": "xai_timeseries",
   "language": "python",
   "name": "xai_timeseries"
  },
  "language_info": {
   "codemirror_mode": {
    "name": "ipython",
    "version": 3
   },
   "file_extension": ".py",
   "mimetype": "text/x-python",
   "name": "python",
   "nbconvert_exporter": "python",
   "pygments_lexer": "ipython3",
   "version": "3.10.11"
  },
  "orig_nbformat": 4,
  "vscode": {
   "interpreter": {
    "hash": "821750203aafa3e6725a7c11719996c58f17f2ae5c4a806c3d30396549224564"
   }
  }
 },
 "nbformat": 4,
 "nbformat_minor": 2
}
