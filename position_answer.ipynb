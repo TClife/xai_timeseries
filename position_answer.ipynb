{
 "cells": [
  {
   "cell_type": "code",
   "execution_count": 1,
   "metadata": {},
   "outputs": [],
   "source": [
    "%load_ext autoreload\n",
    "%autoreload 2"
   ]
  },
  {
   "cell_type": "code",
   "execution_count": 2,
   "metadata": {},
   "outputs": [
    {
     "data": {
      "text/plain": [
       "<torch._C.Generator at 0x7f65ec3fe7b0>"
      ]
     },
     "execution_count": 2,
     "metadata": {},
     "output_type": "execute_result"
    }
   ],
   "source": [
    "import torch \n",
    "import numpy as np \n",
    "import matplotlib.pyplot as plt \n",
    "import os \n",
    "import pandas as pd\n",
    "import argparse                 \n",
    "import sklearn \n",
    "import numpy as np \n",
    "import logging \n",
    "import sklearn.metrics as metrics \n",
    "import scikitplot as skplt\n",
    "import matplotlib.pyplot as plt                                  \n",
    "from argparse import ArgumentParser\n",
    "device = torch.device(\"cuda\" if torch.cuda.is_available() else \"cpu\")\n",
    "from torch.utils.data import DataLoader, TensorDataset, Subset, Dataset, random_split\n",
    "import torch.nn.functional as F\n",
    "from collections import Counter, defaultdict\n",
    "import itertools\n",
    "import os \n",
    "import copy\n",
    "import warnings\n",
    "from dataload import makedata\n",
    "from classifier import ClassifierTrainer\n",
    "from models import VQ_Classifier\n",
    "import itertools\n",
    "from data import load_data\n",
    "warnings.filterwarnings(\"ignore\", category=UserWarning)\n",
    "os.environ[\"CUDA_VISIBLE_DEVICES\"] = \"5\"\n",
    "torch.set_num_threads(32) \n",
    "device = torch.device(\"cuda\" if torch.cuda.is_available() else \"cpu\")\n",
    "torch.manual_seed(911)"
   ]
  },
  {
   "cell_type": "code",
   "execution_count": 3,
   "metadata": {},
   "outputs": [
    {
     "name": "stdout",
     "output_type": "stream",
     "text": [
      "task is classification\n",
      "dataset is peak\n",
      "X shape:torch.Size([800, 192]), y shape:torch.Size([800, 2])\n"
     ]
    }
   ],
   "source": [
    "os.environ[\"CUDA_VISIBLE_DEVICES\"] ='3'\n",
    "len_position=13\n",
    "dataset = 'peak'\n",
    "classifier ='cnn'\n",
    "classification_model =  '/home/smjo/xai_timeseries/vqvae/saved_models/classification/peak/2/cnn.pt'\n",
    "vqvae_model = '/home/smjo/xai_timeseries/vqvae/saved_models/peak/2/model_280.pt'\n",
    "batch_size=256\n",
    "ds = load_data(dataset, task='classification')\n"
   ]
  },
  {
   "cell_type": "code",
   "execution_count": 11,
   "metadata": {},
   "outputs": [
    {
     "data": {
      "text/plain": [
       "torch.Size([192])"
      ]
     },
     "execution_count": 11,
     "metadata": {},
     "output_type": "execute_result"
    }
   ],
   "source": [
    "ds[0][0].shape"
   ]
  },
  {
   "cell_type": "code",
   "execution_count": 4,
   "metadata": {},
   "outputs": [],
   "source": [
    "train_size = int(0.8 * len(ds))\n",
    "val_size = int(0.1 * len(ds))\n",
    "test_size = len(ds) - train_size - val_size\n",
    "train_dataset, val_dataset, test_dataset = random_split(ds, [train_size, val_size, test_size])\n",
    "train_loader = DataLoader(train_dataset, batch_size=batch_size, shuffle=True, pin_memory=True)\n",
    "val_loader = DataLoader(val_dataset, batch_size=batch_size, shuffle=False, pin_memory=True)\n",
    "test_loader = DataLoader(test_dataset, batch_size = batch_size, shuffle=False, pin_memory=True)"
   ]
  },
  {
   "cell_type": "code",
   "execution_count": 5,
   "metadata": {},
   "outputs": [
    {
     "data": {
      "text/plain": [
       "VQ_Classifier(\n",
       "  (vae): Residual_VQVAE(\n",
       "    (vq): ResidualVQ(\n",
       "      (layers): ModuleList(\n",
       "        (0): VectorQuantize(\n",
       "          (project_in): Identity()\n",
       "          (project_out): Identity()\n",
       "          (_codebook): EuclideanCodebook()\n",
       "        )\n",
       "        (1): VectorQuantize(\n",
       "          (project_in): Identity()\n",
       "          (project_out): Identity()\n",
       "          (_codebook): EuclideanCodebook()\n",
       "        )\n",
       "      )\n",
       "    )\n",
       "    (encoder): Sequential(\n",
       "      (0): Sequential(\n",
       "        (0): Conv1d(1, 64, kernel_size=(2,), stride=(2,))\n",
       "        (1): ReLU()\n",
       "      )\n",
       "      (1): Sequential(\n",
       "        (0): Conv1d(64, 64, kernel_size=(2,), stride=(2,))\n",
       "        (1): ReLU()\n",
       "      )\n",
       "      (2): Sequential(\n",
       "        (0): Conv1d(64, 64, kernel_size=(2,), stride=(2,))\n",
       "        (1): ReLU()\n",
       "      )\n",
       "      (3): Sequential(\n",
       "        (0): Conv1d(64, 64, kernel_size=(2,), stride=(2,))\n",
       "        (1): ReLU()\n",
       "      )\n",
       "      (4): Conv1d(64, 64, kernel_size=(1,), stride=(1,))\n",
       "    )\n",
       "    (decoder): Sequential(\n",
       "      (0): Sequential(\n",
       "        (0): ConvTranspose1d(64, 64, kernel_size=(2,), stride=(2,))\n",
       "        (1): ReLU()\n",
       "      )\n",
       "      (1): Sequential(\n",
       "        (0): ConvTranspose1d(64, 64, kernel_size=(2,), stride=(2,))\n",
       "        (1): ReLU()\n",
       "      )\n",
       "      (2): Sequential(\n",
       "        (0): ConvTranspose1d(64, 64, kernel_size=(2,), stride=(2,))\n",
       "        (1): ReLU()\n",
       "      )\n",
       "      (3): Sequential(\n",
       "        (0): ConvTranspose1d(64, 64, kernel_size=(2,), stride=(2,))\n",
       "        (1): ReLU()\n",
       "      )\n",
       "      (4): Conv1d(64, 1, kernel_size=(1,), stride=(1,))\n",
       "    )\n",
       "  )\n",
       "  (to_hidden): Sequential(\n",
       "    (0): Conv1d(64, 32, kernel_size=(4,), stride=(2,))\n",
       "    (1): ReLU()\n",
       "    (2): BatchNorm1d(32, eps=1e-05, momentum=0.1, affine=True, track_running_stats=True)\n",
       "    (3): Conv1d(32, 16, kernel_size=(2,), stride=(1,))\n",
       "    (4): ReLU()\n",
       "    (5): BatchNorm1d(16, eps=1e-05, momentum=0.1, affine=True, track_running_stats=True)\n",
       "    (6): Conv1d(16, 16, kernel_size=(2,), stride=(1,))\n",
       "    (7): ReLU()\n",
       "    (8): BatchNorm1d(16, eps=1e-05, momentum=0.1, affine=True, track_running_stats=True)\n",
       "  )\n",
       "  (embedding): Embedding(128, 64)\n",
       "  (mlp_head): Sequential(\n",
       "    (0): Linear(in_features=16, out_features=2, bias=True)\n",
       "    (1): ReLU()\n",
       "  )\n",
       "  (softmax): Softmax(dim=1)\n",
       ")"
      ]
     },
     "execution_count": 5,
     "metadata": {},
     "output_type": "execute_result"
    }
   ],
   "source": [
    "#Find masking token\n",
    "end_tokens={}\n",
    "\n",
    "conv_net = VQ_Classifier(\n",
    "    num_classes = 2,\n",
    "    vqvae_model = vqvae_model,\n",
    "    positions =0,\n",
    "    mask = 0,\n",
    "    auc_classification = False,\n",
    "    model_type = classifier\n",
    ").to(device)\n",
    "\n",
    "a = torch.load(classification_model)\n",
    "conv_net.load_state_dict(a['model_state_dict'])\n",
    "\n",
    "for param in conv_net.parameters():\n",
    "    param.requires_grad = False\n",
    "\n",
    "conv_net.eval()"
   ]
  },
  {
   "cell_type": "code",
   "execution_count": 6,
   "metadata": {},
   "outputs": [
    {
     "name": "stdout",
     "output_type": "stream",
     "text": [
      "80\n",
      "else case:tensor([[98, 74],\n",
      "        [98, 74],\n",
      "        [98, 74],\n",
      "        [98, 74],\n",
      "        [98, 74],\n",
      "        [98, 74],\n",
      "        [98, 74],\n",
      "        [ 0, 63],\n",
      "        [94, 10],\n",
      "        [18, 75],\n",
      "        [15,  4],\n",
      "        [98, 74]], device='cuda:0')\n",
      "quantized:tensor([[[ 0.4525, -1.0446,  0.3739,  ..., -1.6244,  1.4774,  0.7758],\n",
      "         [ 0.7811, -1.1668, -0.8728,  ...,  0.8547,  0.4208, -0.7446],\n",
      "         [ 0.4525, -1.0446,  0.3739,  ..., -1.6244,  1.4774,  0.7758],\n",
      "         ...,\n",
      "         [ 1.5036,  0.4498, -0.9438,  ..., -0.5572,  0.8877,  1.2325],\n",
      "         [ 0.4525, -1.0446,  0.3739,  ..., -1.6244,  1.4774,  0.7758],\n",
      "         [ 0.7811, -1.1668, -0.8728,  ...,  0.8547,  0.4208, -0.7446]],\n",
      "\n",
      "        [[ 0.4525, -1.0446,  0.3739,  ..., -1.6244,  1.4774,  0.7758],\n",
      "         [-0.5975,  1.6595, -0.8026,  ..., -1.1156, -0.6444, -0.8530],\n",
      "         [ 0.0686, -0.7747,  0.0299,  ..., -0.6927,  1.5212, -1.7734],\n",
      "         ...,\n",
      "         [ 0.7811, -1.1668, -0.8728,  ...,  0.8547,  0.4208, -0.7446],\n",
      "         [ 0.4525, -1.0446,  0.3739,  ..., -1.6244,  1.4774,  0.7758],\n",
      "         [ 0.7811, -1.1668, -0.8728,  ...,  0.8547,  0.4208, -0.7446]],\n",
      "\n",
      "        [[ 0.4525, -1.0446,  0.3739,  ..., -1.6244,  1.4774,  0.7758],\n",
      "         [ 0.7811, -1.1668, -0.8728,  ...,  0.8547,  0.4208, -0.7446],\n",
      "         [ 0.4525, -1.0446,  0.3739,  ..., -1.6244,  1.4774,  0.7758],\n",
      "         ...,\n",
      "         [ 0.5772,  0.2846,  0.3972,  ..., -0.5613, -0.1246, -1.1155],\n",
      "         [-1.0835, -0.4948, -0.2223,  ..., -0.7511,  0.9801,  1.0342],\n",
      "         [ 1.2184, -0.3470, -0.3313,  ...,  0.1940, -1.2834,  1.9501]],\n",
      "\n",
      "        ...,\n",
      "\n",
      "        [[ 0.4525, -1.0446,  0.3739,  ..., -1.6244,  1.4774,  0.7758],\n",
      "         [ 0.6878, -1.0666, -1.0803,  ..., -0.5412, -0.1305,  0.3272],\n",
      "         [-2.4008, -0.3653, -1.0184,  ..., -0.6412, -0.6105, -0.2724],\n",
      "         ...,\n",
      "         [ 0.7811, -1.1668, -0.8728,  ...,  0.8547,  0.4208, -0.7446],\n",
      "         [ 0.4525, -1.0446,  0.3739,  ..., -1.6244,  1.4774,  0.7758],\n",
      "         [ 0.7811, -1.1668, -0.8728,  ...,  0.8547,  0.4208, -0.7446]],\n",
      "\n",
      "        [[ 0.4525, -1.0446,  0.3739,  ..., -1.6244,  1.4774,  0.7758],\n",
      "         [ 0.7811, -1.1668, -0.8728,  ...,  0.8547,  0.4208, -0.7446],\n",
      "         [ 0.4525, -1.0446,  0.3739,  ..., -1.6244,  1.4774,  0.7758],\n",
      "         ...,\n",
      "         [-1.4847, -0.5886,  1.2660,  ...,  0.1632, -0.4447,  1.2779],\n",
      "         [-1.0045, -1.3562,  1.1775,  ...,  0.4961,  1.5854, -0.0956],\n",
      "         [ 0.4814, -0.8473,  1.0915,  ...,  0.0035,  0.0385,  0.1448]],\n",
      "\n",
      "        [[-1.2870,  2.4156, -0.1586,  ...,  1.0623, -1.5194, -2.1991],\n",
      "         [-0.4027,  1.8308, -0.9054,  ..., -2.3848,  0.1726, -0.8686],\n",
      "         [ 0.7305, -0.6206, -1.6411,  ...,  1.5070,  0.8854, -0.0682],\n",
      "         ...,\n",
      "         [ 0.7811, -1.1668, -0.8728,  ...,  0.8547,  0.4208, -0.7446],\n",
      "         [ 0.4525, -1.0446,  0.3739,  ..., -1.6244,  1.4774,  0.7758],\n",
      "         [ 0.7811, -1.1668, -0.8728,  ...,  0.8547,  0.4208, -0.7446]]],\n",
      "       device='cuda:0')\n",
      "mask code is 98 \n"
     ]
    }
   ],
   "source": [
    "with torch.no_grad():\n",
    "    for idx, (data, labels) in enumerate(test_loader):\n",
    "        data = data.unsqueeze(1).float()\n",
    "        labels = labels.type(torch.LongTensor)\n",
    "        data, labels = data.to(device), labels.to(device)\n",
    "        output, codebook_tokens, recon, input= conv_net(data)\n",
    "        for idx,token in enumerate(codebook_tokens[0]):\n",
    "            try:\n",
    "                end_tokens[token[0].item()]+=1\n",
    "            except:\n",
    "                end_tokens[token[0].item()]=1\n",
    "                \n",
    "    mask_code = max(end_tokens, key=end_tokens.get)\n",
    "    print(f\"mask code is {mask_code} \")\n",
    "    "
   ]
  },
  {
   "cell_type": "code",
   "execution_count": null,
   "metadata": {},
   "outputs": [],
   "source": [
    "#Make position answer\n",
    "answer = {}         \n",
    "arr = [i for i in range(len_position)]\n",
    "roc_auc_scores=[]\n",
    "\n",
    "\n",
    "for cnt in range(len_position):\n",
    "    max_auc=-1\n",
    "    print(\"arr:\", arr)\n",
    "    for i in arr:\n",
    "        #ECG Dataset\n",
    "        positions = list(answer.values())+[i]\n",
    "        net = VQ_Classifier(\n",
    "            num_classes = 2,\n",
    "            vqvae_model = vqvae_model,\n",
    "            positions = positions,\n",
    "            mask = mask_code,\n",
    "            auc_classification = True,\n",
    "            model_type = classifier\n",
    "        ).to(device)\n",
    "        \n",
    "        \n",
    "        net.load_state_dict(torch.load(classification_model)[\"model_state_dict\"])\n",
    "        net = net.to(device)\n",
    "        for param in net.parameters():\n",
    "            param.requires_grad = False        \n",
    "        net.eval()   \n",
    "\n",
    "        with torch.no_grad():    \n",
    "            score=0\n",
    "            for idx, (data, labels) in enumerate(test_loader):\n",
    "                data = data.unsqueeze(1).float()\n",
    "                labels = labels.type(torch.LongTensor)\n",
    "                labels = torch.argmax(labels, dim=1)\n",
    "                data, labels = data.to(device), labels.to(device)\n",
    "                output, codebook_tokens, recon, input= net(data)\n",
    "            \n",
    "                score += sklearn.metrics.roc_auc_score(labels.cpu(), output[:,1].cpu())\n",
    "                \n",
    "        score = score / (idx+1)\n",
    "        if score > max_auc:\n",
    "            answer[f\"top_{cnt}\"]=i\n",
    "            max_auc = copy.deepcopy(score)\n",
    "    roc_auc_scores.append(max_auc)        \n",
    "    arr.remove(answer[f\"top_{cnt}\"])"
   ]
  },
  {
   "cell_type": "code",
   "execution_count": 16,
   "metadata": {},
   "outputs": [
    {
     "data": {
      "text/plain": [
       "[0.5, 0.5, 0.5, 0.5, 0.5, 0.5125, 0.7, 0.925, 1.0, 1.0, 1.0, 1.0, 1.0]"
      ]
     },
     "execution_count": 16,
     "metadata": {},
     "output_type": "execute_result"
    }
   ],
   "source": [
    "roc_auc_scores"
   ]
  },
  {
   "cell_type": "code",
   "execution_count": 17,
   "metadata": {},
   "outputs": [
    {
     "data": {
      "text/plain": [
       "{'top_0': 0,\n",
       " 'top_1': 1,\n",
       " 'top_2': 2,\n",
       " 'top_3': 3,\n",
       " 'top_4': 4,\n",
       " 'top_5': 8,\n",
       " 'top_6': 6,\n",
       " 'top_7': 7,\n",
       " 'top_8': 9,\n",
       " 'top_9': 5,\n",
       " 'top_10': 10,\n",
       " 'top_11': 11,\n",
       " 'top_12': 12}"
      ]
     },
     "execution_count": 17,
     "metadata": {},
     "output_type": "execute_result"
    }
   ],
   "source": [
    "answer"
   ]
  },
  {
   "cell_type": "code",
   "execution_count": null,
   "metadata": {},
   "outputs": [],
   "source": []
  }
 ],
 "metadata": {
  "kernelspec": {
   "display_name": "xai_timeseries",
   "language": "python",
   "name": "python3"
  },
  "language_info": {
   "codemirror_mode": {
    "name": "ipython",
    "version": 3
   },
   "file_extension": ".py",
   "mimetype": "text/x-python",
   "name": "python",
   "nbconvert_exporter": "python",
   "pygments_lexer": "ipython3",
   "version": "3.10.11"
  },
  "orig_nbformat": 4,
  "vscode": {
   "interpreter": {
    "hash": "821750203aafa3e6725a7c11719996c58f17f2ae5c4a806c3d30396549224564"
   }
  }
 },
 "nbformat": 4,
 "nbformat_minor": 2
}
