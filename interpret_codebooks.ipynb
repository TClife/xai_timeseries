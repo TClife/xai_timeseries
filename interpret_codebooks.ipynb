{
 "cells": [
  {
   "cell_type": "code",
   "execution_count": 1,
   "metadata": {},
   "outputs": [
    {
     "name": "stderr",
     "output_type": "stream",
     "text": [
      "/home/hschung/anaconda3/envs/explainable_timeseries/lib/python3.9/site-packages/tqdm/auto.py:21: TqdmWarning: IProgress not found. Please update jupyter and ipywidgets. See https://ipywidgets.readthedocs.io/en/stable/user_install.html\n",
      "  from .autonotebook import tqdm as notebook_tqdm\n"
     ]
    }
   ],
   "source": [
    "import torch \n",
    "from collections import Counter"
   ]
  },
  {
   "cell_type": "code",
   "execution_count": 11,
   "metadata": {},
   "outputs": [
    {
     "data": {
      "text/plain": [
       "[(1, 49),\n",
       " (0, 40),\n",
       " (11, 39),\n",
       " (3, 10),\n",
       " (2, 6),\n",
       " (5, 6),\n",
       " (6, 3),\n",
       " (7, 3),\n",
       " (4, 3),\n",
       " (9, 1)]"
      ]
     },
     "execution_count": 11,
     "metadata": {},
     "output_type": "execute_result"
    }
   ],
   "source": [
    "ptb_lime_quantizer1 = torch.load(\"/home/hschung/xai/xai_timeseries/ecg_sample_ptb_highest_weights_cnn_transformer_8/label0/model_type_cnn_transformer_codebooks_weights.pt\")\n",
    "top_indices = [int(item) for sublist in ptb_lime_quantizer1['positions'] for item in sublist]\n",
    "count = Counter(top_indices).most_common()\n",
    "count"
   ]
  },
  {
   "cell_type": "code",
   "execution_count": null,
   "metadata": {},
   "outputs": [],
   "source": []
  }
 ],
 "metadata": {
  "kernelspec": {
   "display_name": "explainable_timeseries",
   "language": "python",
   "name": "python3"
  },
  "language_info": {
   "codemirror_mode": {
    "name": "ipython",
    "version": 3
   },
   "file_extension": ".py",
   "mimetype": "text/x-python",
   "name": "python",
   "nbconvert_exporter": "python",
   "pygments_lexer": "ipython3",
   "version": "3.9.16"
  },
  "orig_nbformat": 4
 },
 "nbformat": 4,
 "nbformat_minor": 2
}
