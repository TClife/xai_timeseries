{
 "cells": [
  {
   "cell_type": "code",
   "execution_count": 1,
   "metadata": {},
   "outputs": [],
   "source": [
    "%reload_ext autoreload\n",
    "%autoreload 2"
   ]
  },
  {
   "cell_type": "code",
   "execution_count": 2,
   "metadata": {},
   "outputs": [
    {
     "name": "stderr",
     "output_type": "stream",
     "text": [
      "/home/smjo/anaconda3/envs/xai_timeseries/lib/python3.10/site-packages/tqdm/auto.py:21: TqdmWarning: IProgress not found. Please update jupyter and ipywidgets. See https://ipywidgets.readthedocs.io/en/stable/user_install.html\n",
      "  from .autonotebook import tqdm as notebook_tqdm\n",
      "Failed to detect the name of this notebook, you can set it manually with the WANDB_NOTEBOOK_NAME environment variable to enable code saving.\n",
      "\u001b[34m\u001b[1mwandb\u001b[0m: Currently logged in as: \u001b[33msuminjo\u001b[0m. Use \u001b[1m`wandb login --relogin`\u001b[0m to force relogin\n"
     ]
    },
    {
     "data": {
      "text/html": [
       "wandb version 0.15.8 is available!  To upgrade, please run:\n",
       " $ pip install wandb --upgrade"
      ],
      "text/plain": [
       "<IPython.core.display.HTML object>"
      ]
     },
     "metadata": {},
     "output_type": "display_data"
    },
    {
     "data": {
      "text/html": [
       "Tracking run with wandb version 0.15.4"
      ],
      "text/plain": [
       "<IPython.core.display.HTML object>"
      ]
     },
     "metadata": {},
     "output_type": "display_data"
    },
    {
     "data": {
      "text/html": [
       "Run data is saved locally in <code>/home/smjo/xai_timeseries/wandb/run-20230811_220749-msjw9i63</code>"
      ],
      "text/plain": [
       "<IPython.core.display.HTML object>"
      ]
     },
     "metadata": {},
     "output_type": "display_data"
    },
    {
     "data": {
      "text/html": [
       "Syncing run <strong><a href='https://wandb.ai/suminjo/resnet%20for%20raw%20time%20domain/runs/msjw9i63' target=\"_blank\">trim-frog-31</a></strong> to <a href='https://wandb.ai/suminjo/resnet%20for%20raw%20time%20domain' target=\"_blank\">Weights & Biases</a> (<a href='https://wandb.me/run' target=\"_blank\">docs</a>)<br/>"
      ],
      "text/plain": [
       "<IPython.core.display.HTML object>"
      ]
     },
     "metadata": {},
     "output_type": "display_data"
    },
    {
     "data": {
      "text/html": [
       " View project at <a href='https://wandb.ai/suminjo/resnet%20for%20raw%20time%20domain' target=\"_blank\">https://wandb.ai/suminjo/resnet%20for%20raw%20time%20domain</a>"
      ],
      "text/plain": [
       "<IPython.core.display.HTML object>"
      ]
     },
     "metadata": {},
     "output_type": "display_data"
    },
    {
     "data": {
      "text/html": [
       " View run at <a href='https://wandb.ai/suminjo/resnet%20for%20raw%20time%20domain/runs/msjw9i63' target=\"_blank\">https://wandb.ai/suminjo/resnet%20for%20raw%20time%20domain/runs/msjw9i63</a>"
      ],
      "text/plain": [
       "<IPython.core.display.HTML object>"
      ]
     },
     "metadata": {},
     "output_type": "display_data"
    }
   ],
   "source": [
    "import pandas as pd\n",
    "import torch \n",
    "import matplotlib.pyplot as plt\n",
    "from sklearn.neighbors import KNeighborsClassifier as KNN\n",
    "from sklearn.metrics import accuracy_score as acc\n",
    "import numpy as np\n",
    "from lime import explanation\n",
    "from lime import lime_base\n",
    "import math\n",
    "from time_lime import LimeTimeSeriesExplainer\n",
    "from data import load_data\n",
    "from resnet import resnet34\n",
    "from torch.utils.data import DataLoader\n",
    "from torch.utils.data import DataLoader, Dataset\n",
    "from torch.utils.data import Dataset, random_split\n",
    "import torch.optim as optim \n",
    "import copy\n",
    "import argparse\n",
    "\n",
    "import os\n",
    "import sklearn \n",
    "import scikitplot as skplt\n",
    "\n",
    "torch.set_num_threads(32)\n",
    "torch.manual_seed(911) \n",
    "device = torch.device(\"cuda\" if torch.cuda.is_available() else \"cpu\")\n",
    "\n"
   ]
  },
  {
   "cell_type": "code",
   "execution_count": 3,
   "metadata": {},
   "outputs": [
    {
     "name": "stdout",
     "output_type": "stream",
     "text": [
      "task is xai\n",
      "dataset is toydata\n",
      "X shape:torch.Size([2000, 192]), y shape:torch.Size([2000, 2])\n"
     ]
    },
    {
     "data": {
      "text/plain": [
       "<All keys matched successfully>"
      ]
     },
     "execution_count": 3,
     "metadata": {},
     "output_type": "execute_result"
    }
   ],
   "source": [
    "ds = load_data('toydata',task='xai',domain='time')\n",
    "batch_size=1\n",
    "\n",
    "classification_model_pth = '/home/smjo/xai_timeseries/classification_models/toydata/time/resnet.pt'\n",
    "\n",
    "train_size = int(0.8 * len(ds))\n",
    "val_size = int(0.1 * len(ds))\n",
    "test_size = len(ds) - train_size - val_size\n",
    "train_dataset, val_dataset, test_dataset = random_split(ds, [train_size, val_size, test_size])\n",
    "training_loader = DataLoader(train_dataset, batch_size=batch_size, shuffle=True, pin_memory=True)\n",
    "validation_loader = DataLoader(val_dataset, batch_size=batch_size, shuffle=False, pin_memory=True)\n",
    "test_loader = DataLoader(test_dataset, batch_size=batch_size, shuffle=False, pin_memory=True)\n",
    "\n",
    "#load classification args \n",
    "classification_model = torch.load(classification_model_pth)\n",
    "class_args = classification_model['args']\n",
    "\n",
    "net = resnet34(class_args).to(device)\n",
    "net.load_state_dict(classification_model['model_state_dict'])"
   ]
  },
  {
   "cell_type": "code",
   "execution_count": 4,
   "metadata": {},
   "outputs": [],
   "source": [
    "for param in net.parameters():\n",
    "    param.requires_grad = False "
   ]
  },
  {
   "cell_type": "code",
   "execution_count": 5,
   "metadata": {},
   "outputs": [],
   "source": [
    "\n",
    "\n",
    "for k, (data, labels) in enumerate(test_loader):\n",
    "    #codebook\n",
    "    net.eval()\n",
    "    net = net.to(device)\n",
    "    data = data.unsqueeze(0).to(device)\n",
    "    y_hat,prob, _,_,_ = net(data)\n",
    "    # Explain ECG Dataset\n",
    "    len_ts = data.shape[2]\n",
    "    \n",
    "    #Number of perturb indices\n",
    "    \n",
    "    idx = 5 # explained instance\n",
    "    num_slices = 12 # split time series\n",
    "    num_features = int(192/num_slices) # how many feature contained in explanation\n",
    "    \n",
    "    \n",
    "    index = list(range(num_slices))    \n",
    "    num_indices = len(index)\n",
    "\n",
    "    explainer = LimeTimeSeriesExplainer(class_names =['Class0', 'Class1'])\n",
    "    exp = explainer.explain_instance(data, net, num_features=num_slices, num_samples=5000, num_slices=num_slices,len_ts=192,\n",
    "                                    replacement_method='total_mean')\n",
    "    break"
   ]
  },
  {
   "cell_type": "code",
   "execution_count": 9,
   "metadata": {},
   "outputs": [
    {
     "data": {
      "text/plain": [
       "(10, 1.2692529733322466e-05)"
      ]
     },
     "execution_count": 9,
     "metadata": {},
     "output_type": "execute_result"
    }
   ],
   "source": [
    "exp.as_list()[1]"
   ]
  },
  {
   "cell_type": "code",
   "execution_count": 16,
   "metadata": {},
   "outputs": [
    {
     "name": "stdout",
     "output_type": "stream",
     "text": [
      "0 0.0662891289861384 green\n",
      "16 0\n",
      "10 1.2692529733322466e-05 green\n",
      "176 160\n",
      "8 1.0854024926292053e-05 green\n",
      "144 128\n",
      "4 1.0118574372675847e-05 green\n",
      "80 64\n",
      "5 8.681983177654469e-06 green\n",
      "96 80\n",
      "6 8.488427391156988e-06 green\n",
      "112 96\n",
      "11 7.633271861310622e-06 green\n",
      "192 176\n",
      "2 7.234960413355736e-06 green\n",
      "48 32\n",
      "7 6.296458357039425e-06 green\n",
      "128 112\n",
      "3 6.222167483885172e-06 green\n",
      "64 48\n",
      "9 6.057879005429339e-06 green\n",
      "160 144\n",
      "1 5.817584341146772e-06 green\n",
      "32 16\n"
     ]
    },
    {
     "data": {
      "image/png": "[encoded data removed]",
      "text/plain": [
       "<Figure size 640x480 with 1 Axes>"
      ]
     },
     "metadata": {},
     "output_type": "display_data"
    }
   ],
   "source": [
    "values_per_slice = math.ceil(192 / num_slices)\n",
    "plt.plot(data.cpu().reshape(192,), color='b', label='Explained instance')\n",
    "#plt.plot(test_dataset.iloc[15:,:].mean(), color='green', label='Mean of other class')s\n",
    "plt.legend(loc='lower left')\n",
    "\n",
    "for i in range(num_slices):\n",
    "    feature, weight = exp.as_list()[i]\n",
    "    start = feature * values_per_slice\n",
    "    end = start + values_per_slice\n",
    "    color = 'red' if weight < 0 else 'green' \n",
    "    plt.axvspan(start , end, color=color, alpha=abs(weight*2))\n",
    "    print(feature, weight, color)\n",
    "    print(end, start)\n",
    "plt.show()"
   ]
  },
  {
   "attachments": {},
   "cell_type": "markdown",
   "metadata": {},
   "source": [
    "### test sample 전체에 대해 weight 구하기 ###"
   ]
  },
  {
   "cell_type": "code",
   "execution_count": 44,
   "metadata": {},
   "outputs": [],
   "source": [
    "idx = 5 # explained instance\n",
    "num_slices = 24 # split time series\n",
    "num_features = int(192/num_slices) # how many feature contained in explanation\n",
    "\n",
    "\n",
    "index = list(range(num_slices))    \n",
    "num_indices = len(index)\n",
    "\n",
    "weight_dict={ i:0 for i in range(num_slices)}\n",
    "plt.plot(test_dataset[ecg_test_y[ecg_test_y == 1].index, :].mean(), color='green',\n",
    "        label='Mean of class 1')\n",
    "for k, (data, labels) in enumerate(test_loader):\n",
    "    #codebook\n",
    "    net.eval()\n",
    "    net = net.to(device)\n",
    "    data = data.unsqueeze(0).to(device)\n",
    "    y_hat,prob, _,_,_ = net(data)\n",
    "    # Explain ECG Dataset\n",
    "    len_ts = data.shape[2]\n",
    "    \n",
    "    #Number of perturb indices\n",
    "    \n",
    "    \n",
    "\n",
    "    explainer = LimeTimeSeriesExplainer(class_names =['Class0', 'Class1'])\n",
    "    exp = explainer.explain_instance(data, net, num_features=num_slices, num_samples=5000, num_slices=num_slices,len_ts=192,\n",
    "                                    replacement_method='total_mean')\n",
    "    max = -1e-10\n",
    "    top_important = 0\n",
    "    for i in range(num_slices):\n",
    "        feature, weight = exp.as_list()[i]\n",
    "        if weight >  max:\n",
    "            max = weight\n",
    "            top_important = feature\n",
    "    weight_dict[top_important] +=1\n",
    "            \n",
    "\n",
    "plt."
   ]
  },
  {
   "cell_type": "code",
   "execution_count": 43,
   "metadata": {},
   "outputs": [
    {
     "data": {
      "text/plain": [
       "dict_keys([0, 3, 11, 1, 2, 4, 5, 6, 7, 8, 9, 10])"
      ]
     },
     "execution_count": 43,
     "metadata": {},
     "output_type": "execute_result"
    }
   ],
   "source": [
    "\n",
    "position_rank = sorted(weight_dict.items(), key=lambda x:x[1], reverse=True)\n",
    "dict(position_rank).keys()"
   ]
  },
  {
   "cell_type": "code",
   "execution_count": 42,
   "metadata": {},
   "outputs": [
    {
     "data": {
      "text/plain": [
       "{0: 198, 1: 0, 2: 0, 3: 1, 4: 0, 5: 0, 6: 0, 7: 0, 8: 0, 9: 0, 10: 0, 11: 1}"
      ]
     },
     "execution_count": 42,
     "metadata": {},
     "output_type": "execute_result"
    }
   ],
   "source": [
    "for pos,count in weight_dict.items():\n",
    "    start = pos * values_per_slice\n",
    "    end = start + values_per_slice\n",
    "    plt.axvspan(start , end, color='green', alpha=abs(count*2))"
   ]
  },
  {
   "cell_type": "code",
   "execution_count": 45,
   "metadata": {},
   "outputs": [
    {
     "data": {
      "text/html": [
       "Finishing last run (ID:msjw9i63) before initializing another..."
      ],
      "text/plain": [
       "<IPython.core.display.HTML object>"
      ]
     },
     "metadata": {},
     "output_type": "display_data"
    },
    {
     "data": {
      "text/html": [
       "Waiting for W&B process to finish... <strong style=\"color:green\">(success).</strong>"
      ],
      "text/plain": [
       "<IPython.core.display.HTML object>"
      ]
     },
     "metadata": {},
     "output_type": "display_data"
    }
   ],
   "source": [
    "test_dataset[0]"
   ]
  },
  {
   "cell_type": "code",
   "execution_count": null,
   "metadata": {},
   "outputs": [],
   "source": []
  }
 ],
 "metadata": {
  "kernelspec": {
   "display_name": "xai_timeseries",
   "language": "python",
   "name": "python3"
  },
  "language_info": {
   "codemirror_mode": {
    "name": "ipython",
    "version": 3
   },
   "file_extension": ".py",
   "mimetype": "text/x-python",
   "name": "python",
   "nbconvert_exporter": "python",
   "pygments_lexer": "ipython3",
   "version": "3.10.11"
  },
  "orig_nbformat": 4,
  "vscode": {
   "interpreter": {
    "hash": "821750203aafa3e6725a7c11719996c58f17f2ae5c4a806c3d30396549224564"
   }
  }
 },
 "nbformat": 4,
 "nbformat_minor": 2
}
